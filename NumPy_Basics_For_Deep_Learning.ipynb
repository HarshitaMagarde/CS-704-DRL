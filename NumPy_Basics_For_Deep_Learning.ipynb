{
  "cells": [
    {
      "cell_type": "markdown",
      "metadata": {
        "colab_type": "text",
        "id": "view-in-github"
      },
      "source": [
        "<a href=\"https://colab.research.google.com/github/Tanvisharma31/CS-704_Deep-Reinforcement_Learning_Lab/blob/m/NumPy_Basics_For_Deep_Learning.ipynb\" target=\"_parent\"><img src=\"https://colab.research.google.com/assets/colab-badge.svg\" alt=\"Open In Colab\"/></a>"
      ]
    },
    {
      "cell_type": "markdown",
      "metadata": {
        "id": "BaE8pHYq5Tw4"
      },
      "source": [
        "# **NumPy** Basics For Deep Learning"
      ]
    },
    {
      "cell_type": "code",
      "execution_count": 36,
      "metadata": {
        "id": "FAUaNOibMfAH"
      },
      "outputs": [],
      "source": [
        "#!pip install numpy"
      ]
    },
    {
      "cell_type": "markdown",
      "metadata": {
        "id": "CSc3cudY5ZyX"
      },
      "source": [
        "Basic array creation"
      ]
    },
    {
      "cell_type": "code",
      "execution_count": 37,
      "metadata": {
        "colab": {
          "base_uri": "https://localhost:8080/"
        },
        "id": "DXv6B2IRCemA",
        "outputId": "8936401b-b3f5-4ec9-89bd-061b4cb39946"
      },
      "outputs": [
        {
          "name": "stdout",
          "output_type": "stream",
          "text": [
            "1D Array: [1 2 3 4 5]\n"
          ]
        }
      ],
      "source": [
        "import numpy as np\n",
        "#create a 1d array\n",
        "array_1d = np.array([1,2,3,4,5])\n",
        "print(\"1D Array:\",array_1d)"
      ]
    },
    {
      "cell_type": "code",
      "execution_count": 38,
      "metadata": {
        "colab": {
          "base_uri": "https://localhost:8080/"
        },
        "id": "RIJc82b0Zoj8",
        "outputId": "6742e40c-7c7a-4e6d-af26-a40899018560"
      },
      "outputs": [
        {
          "name": "stdout",
          "output_type": "stream",
          "text": [
            "2D Array:\n",
            " [[1 2 3]\n",
            " [4 5 6]]\n"
          ]
        }
      ],
      "source": [
        "#create a 2d array\n",
        "array_2d = np.array([[1,2,3],[4,5,6]])\n",
        "print(\"2D Array:\\n\",array_2d)"
      ]
    },
    {
      "cell_type": "code",
      "execution_count": 39,
      "metadata": {
        "colab": {
          "base_uri": "https://localhost:8080/"
        },
        "id": "7hGQtnr84lYO",
        "outputId": "bd39c9fc-a9f4-4457-83da-6c1bb0cb12cb"
      },
      "outputs": [
        {
          "name": "stdout",
          "output_type": "stream",
          "text": [
            "Zeros Array:\n",
            " [[0. 0. 0.]\n",
            " [0. 0. 0.]\n",
            " [0. 0. 0.]]\n"
          ]
        }
      ],
      "source": [
        "#create an array with zeros\n",
        "zeros_array=np.zeros((3,3))\n",
        "print(\"Zeros Array:\\n\",zeros_array)"
      ]
    },
    {
      "cell_type": "code",
      "execution_count": 40,
      "metadata": {
        "colab": {
          "base_uri": "https://localhost:8080/"
        },
        "id": "ysi8eir94-CB",
        "outputId": "75cde868-f95a-4201-bec4-de0bbdc31aab"
      },
      "outputs": [
        {
          "name": "stdout",
          "output_type": "stream",
          "text": [
            "Ones Array:\n",
            " [[1. 1. 1.]\n",
            " [1. 1. 1.]\n",
            " [1. 1. 1.]]\n"
          ]
        }
      ],
      "source": [
        "#create an array with ones\n",
        "ones_array=np.ones((3,3))\n",
        "print(\"Ones Array:\\n\",ones_array)"
      ]
    },
    {
      "cell_type": "markdown",
      "metadata": {
        "id": "JOC0BBb55RDD"
      },
      "source": [
        "Array Operations"
      ]
    },
    {
      "cell_type": "code",
      "execution_count": 41,
      "metadata": {
        "id": "E6B24KNd5O-C"
      },
      "outputs": [],
      "source": [
        "#create two arrays\n",
        "a=np.array([1,2,3])\n",
        "b=np.array([4,5,6])\n"
      ]
    },
    {
      "cell_type": "code",
      "execution_count": 42,
      "metadata": {
        "colab": {
          "base_uri": "https://localhost:8080/"
        },
        "id": "vTawXtMf5pxw",
        "outputId": "f31baa74-0aea-4a3f-e9d1-82270a032964"
      },
      "outputs": [
        {
          "name": "stdout",
          "output_type": "stream",
          "text": [
            "Sum: [5 7 9]\n"
          ]
        }
      ],
      "source": [
        "#addition\n",
        "sum_array=np.add(a,b)\n",
        "print(\"Sum:\",sum_array)"
      ]
    },
    {
      "cell_type": "code",
      "execution_count": 43,
      "metadata": {
        "colab": {
          "base_uri": "https://localhost:8080/"
        },
        "id": "A4yjhu7L51Re",
        "outputId": "1f3d3939-edc1-4698-aa49-e56a0e6159b7"
      },
      "outputs": [
        {
          "name": "stdout",
          "output_type": "stream",
          "text": [
            "Difference: [-3 -3 -3]\n"
          ]
        }
      ],
      "source": [
        "#subtraction\n",
        "diff_array=np.subtract(a,b)\n",
        "print(\"Difference:\",diff_array)"
      ]
    },
    {
      "cell_type": "code",
      "execution_count": 44,
      "metadata": {
        "colab": {
          "base_uri": "https://localhost:8080/"
        },
        "id": "zjfGujCK6Bbo",
        "outputId": "7d73f6b7-f847-4ada-d92d-93cfb8b9ca0c"
      },
      "outputs": [
        {
          "name": "stdout",
          "output_type": "stream",
          "text": [
            "Multiply: [ 4 10 18]\n"
          ]
        }
      ],
      "source": [
        "#Multiplication\n",
        "prod_array=np.multiply(a,b)\n",
        "print(\"Multiply:\",prod_array)\n"
      ]
    },
    {
      "cell_type": "code",
      "execution_count": 45,
      "metadata": {
        "colab": {
          "base_uri": "https://localhost:8080/"
        },
        "id": "4NgHAbUn6VT6",
        "outputId": "f450b641-c4cb-49dd-84ad-fe0b0e23198c"
      },
      "outputs": [
        {
          "name": "stdout",
          "output_type": "stream",
          "text": [
            "Quotient: [0.25 0.4  0.5 ]\n"
          ]
        }
      ],
      "source": [
        "#division\n",
        "quotient_array=np.divide(a,b)\n",
        "print(\"Quotient:\",quotient_array)"
      ]
    },
    {
      "cell_type": "markdown",
      "metadata": {
        "id": "HwqCHjVD6jba"
      },
      "source": [
        "Matrix Multiplication"
      ]
    },
    {
      "cell_type": "code",
      "execution_count": 46,
      "metadata": {
        "id": "a_Juenwi6iWU"
      },
      "outputs": [],
      "source": [
        "#create 2 matrix\n",
        "a=np.array([[1,2],[3,4]])\n",
        "b=np.array([[5,6],[7,8]])\n"
      ]
    },
    {
      "cell_type": "code",
      "execution_count": 47,
      "metadata": {
        "colab": {
          "base_uri": "https://localhost:8080/"
        },
        "id": "KcuJFcec69Wf",
        "outputId": "a92284b9-2f09-4752-d196-4d5920fc9448"
      },
      "outputs": [
        {
          "name": "stdout",
          "output_type": "stream",
          "text": [
            "Matrix Product:\n",
            " [[19 22]\n",
            " [43 50]]\n"
          ]
        }
      ],
      "source": [
        "#matrix Multiplication\n",
        "matrix_product=np.dot(a,b)\n",
        "print(\"Matrix Product:\\n\",matrix_product)"
      ]
    },
    {
      "cell_type": "markdown",
      "metadata": {
        "id": "gzQlo9qC7PMX"
      },
      "source": [
        "Broadcasting"
      ]
    },
    {
      "cell_type": "code",
      "execution_count": 48,
      "metadata": {
        "id": "lfAPCVcu7N_Z"
      },
      "outputs": [],
      "source": [
        "#create an array & a scalar\n",
        "array=np.array([1,2,3])\n",
        "scalar=2"
      ]
    },
    {
      "cell_type": "code",
      "execution_count": 49,
      "metadata": {
        "colab": {
          "base_uri": "https://localhost:8080/"
        },
        "id": "BxKzhYsi7dFx",
        "outputId": "307fd10a-be97-4379-d639-cc8211c52956"
      },
      "outputs": [
        {
          "name": "stdout",
          "output_type": "stream",
          "text": [
            "Broadcasted Array: [2 4 6]\n"
          ]
        }
      ],
      "source": [
        "#broadcasting\n",
        "broadcasted_array=array*scalar\n",
        "print(\"Broadcasted Array:\",broadcasted_array)"
      ]
    },
    {
      "cell_type": "markdown",
      "metadata": {
        "id": "0yjkvQnB7vEC"
      },
      "source": [
        "Statistical Operations"
      ]
    },
    {
      "cell_type": "code",
      "execution_count": 50,
      "metadata": {
        "id": "2HznYsDp7mwq"
      },
      "outputs": [],
      "source": [
        "#create an array\n",
        "data=np.array([1,2,3,4,5])"
      ]
    },
    {
      "cell_type": "code",
      "execution_count": 51,
      "metadata": {
        "colab": {
          "base_uri": "https://localhost:8080/"
        },
        "id": "VwqBRxMJ7jb_",
        "outputId": "d9cd925d-d48e-4ccb-89a4-34eaf1abcb72"
      },
      "outputs": [
        {
          "name": "stdout",
          "output_type": "stream",
          "text": [
            "Mean: 3.0\n"
          ]
        }
      ],
      "source": [
        "#mean\n",
        "mean=np.mean(data)\n",
        "print(\"Mean:\",mean)"
      ]
    },
    {
      "cell_type": "code",
      "execution_count": 52,
      "metadata": {
        "colab": {
          "base_uri": "https://localhost:8080/"
        },
        "id": "vdWIjxOg8Akj",
        "outputId": "349a81d1-5738-4feb-e72a-eda1a8d25bf5"
      },
      "outputs": [
        {
          "name": "stdout",
          "output_type": "stream",
          "text": [
            "Standard Deviation: 1.4142135623730951\n"
          ]
        }
      ],
      "source": [
        "#standard deviation\n",
        "std=np.std(data)\n",
        "print(\"Standard Deviation:\",std)"
      ]
    },
    {
      "cell_type": "code",
      "execution_count": 53,
      "metadata": {
        "colab": {
          "base_uri": "https://localhost:8080/"
        },
        "id": "R1U1w0t18LQi",
        "outputId": "3c7148b6-dea5-4a92-d743-ba4f3fc87ff9"
      },
      "outputs": [
        {
          "name": "stdout",
          "output_type": "stream",
          "text": [
            "Sum: 15\n"
          ]
        }
      ],
      "source": [
        "#sum\n",
        "sum=np.sum(data)\n",
        "print(\"Sum:\",sum)"
      ]
    },
    {
      "cell_type": "markdown",
      "metadata": {
        "id": "-N1hKq6w8SuL"
      },
      "source": [
        "Reshaping Arrays"
      ]
    },
    {
      "cell_type": "code",
      "execution_count": 54,
      "metadata": {
        "id": "UnK0hxOe8SG4"
      },
      "outputs": [],
      "source": [
        "#create a 1d array\n",
        "array=np.array([1,2,3,4,5,6])"
      ]
    },
    {
      "cell_type": "code",
      "execution_count": 55,
      "metadata": {
        "colab": {
          "base_uri": "https://localhost:8080/"
        },
        "id": "2uA0kx4P8xq7",
        "outputId": "52bc30c2-0e69-4d58-e7a2-9ea9d636564a"
      },
      "outputs": [
        {
          "name": "stdout",
          "output_type": "stream",
          "text": [
            "Reshaped Array:\n",
            " [[1 2 3]\n",
            " [4 5 6]]\n"
          ]
        }
      ],
      "source": [
        "#reshaping to 2x3\n",
        "reshaped=array.reshape(2,3)\n",
        "print(\"Reshaped Array:\\n\",reshaped)"
      ]
    },
    {
      "cell_type": "code",
      "execution_count": 56,
      "metadata": {
        "colab": {
          "base_uri": "https://localhost:8080/"
        },
        "id": "Q4HJMm-L9ACs",
        "outputId": "0825232e-3542-47e1-b527-910294b944c7"
      },
      "outputs": [
        {
          "name": "stdout",
          "output_type": "stream",
          "text": [
            "Reshaped Array:\n",
            " [[1 2]\n",
            " [3 4]\n",
            " [5 6]]\n"
          ]
        }
      ],
      "source": [
        "#reshaping to 3x2\n",
        "reshaped_array=array.reshape(3,2)\n",
        "print(\"Reshaped Array:\\n\",reshaped_array)"
      ]
    },
    {
      "cell_type": "markdown",
      "metadata": {
        "id": "-RAnndZH9TXH"
      },
      "source": [
        "Element-wise Operations"
      ]
    },
    {
      "cell_type": "code",
      "execution_count": 57,
      "metadata": {
        "id": "TqCMKxT89XJk"
      },
      "outputs": [],
      "source": [
        "#create Array\n",
        "array_a=np.array([1,2,3])\n",
        "array_b=np.array([4,5,6])"
      ]
    },
    {
      "cell_type": "code",
      "execution_count": 58,
      "metadata": {
        "colab": {
          "base_uri": "https://localhost:8080/"
        },
        "id": "buPTVcub90CL",
        "outputId": "41acbbdb-95be-4094-924b-5bf0fb321481"
      },
      "outputs": [
        {
          "name": "stdout",
          "output_type": "stream",
          "text": [
            "Element-wise Addition: [5 7 9]\n"
          ]
        }
      ],
      "source": [
        "#Element-wise addition\n",
        "add_result=array_a + array_b\n",
        "print(\"Element-wise Addition:\",add_result)"
      ]
    },
    {
      "cell_type": "code",
      "execution_count": 59,
      "metadata": {
        "colab": {
          "base_uri": "https://localhost:8080/"
        },
        "id": "Oi8Lt3Jo-Mq1",
        "outputId": "64a7578a-7938-48e4-e7a8-a57cb9902c7e"
      },
      "outputs": [
        {
          "name": "stdout",
          "output_type": "stream",
          "text": [
            "Element-wise: [ 4 10 18]\n"
          ]
        }
      ],
      "source": [
        "#Element-wise Multiplication\n",
        "multiply_result=array_a*array_b\n",
        "print(\"Element-wise:\",multiply_result)"
      ]
    },
    {
      "cell_type": "markdown",
      "metadata": {
        "id": "-Wky5icR-j3j"
      },
      "source": [
        "Slicing & indexing"
      ]
    },
    {
      "cell_type": "code",
      "execution_count": 69,
      "metadata": {
        "colab": {
          "base_uri": "https://localhost:8080/"
        },
        "id": "zBUXtCOn-fm8",
        "outputId": "353e27b2-7dec-4c8e-86fe-b5dfcb5f406d"
      },
      "outputs": [
        {
          "name": "stdout",
          "output_type": "stream",
          "text": [
            "array_2d:\n",
            " [[1 2 3]\n",
            " [4 5 6]\n",
            " [7 8 9]]\n"
          ]
        }
      ],
      "source": [
        "#create 2D array\n",
        "array_2d=np.array([[1,2,3],[4,5,6],[7,8,9]])\n",
        "print(\"array_2d:\\n\", array_2d)"
      ]
    },
    {
      "cell_type": "code",
      "execution_count": 61,
      "metadata": {
        "colab": {
          "base_uri": "https://localhost:8080/"
        },
        "id": "tsNGP9cW-30v",
        "outputId": "da20e52c-89a0-4e56-ec62-d120e5384539"
      },
      "outputs": [
        {
          "name": "stdout",
          "output_type": "stream",
          "text": [
            "Element at [1,1]: 5\n"
          ]
        }
      ],
      "source": [
        "#accessing an element\n",
        "element=array_2d[1,1]\n",
        "print(\"Element at [1,1]:\",element)"
      ]
    },
    {
      "cell_type": "code",
      "execution_count": 62,
      "metadata": {
        "colab": {
          "base_uri": "https://localhost:8080/"
        },
        "id": "BLesoCkv_GCq",
        "outputId": "d40683a5-02db-4e01-b51a-ad7ed5e17b23"
      },
      "outputs": [
        {
          "name": "stdout",
          "output_type": "stream",
          "text": [
            "Row: [4 5 6]\n"
          ]
        }
      ],
      "source": [
        "#accessing a row\n",
        "row=array_2d[1,:]\n",
        "print(\"Row:\",row)"
      ]
    },
    {
      "cell_type": "code",
      "execution_count": 63,
      "metadata": {
        "colab": {
          "base_uri": "https://localhost:8080/"
        },
        "id": "p2vy-1WA_Xdg",
        "outputId": "0ddd5f71-1d4e-4972-f0f1-e48690ed2887"
      },
      "outputs": [
        {
          "name": "stdout",
          "output_type": "stream",
          "text": [
            "Column: [2 5 8]\n"
          ]
        }
      ],
      "source": [
        "#accessing a column\n",
        "column=array_2d[:,1]\n",
        "print(\"Column:\",column)"
      ]
    },
    {
      "cell_type": "markdown",
      "metadata": {
        "id": "1f39by0VD6k2"
      },
      "source": [
        "Creating Random Arrays"
      ]
    },
    {
      "cell_type": "code",
      "execution_count": 64,
      "metadata": {
        "colab": {
          "base_uri": "https://localhost:8080/"
        },
        "id": "AxgUwFlbD9Sl",
        "outputId": "71358c52-1d8f-420c-bace-9f449eca1905"
      },
      "outputs": [
        {
          "name": "stdout",
          "output_type": "stream",
          "text": [
            "Random Array:\n",
            " [[0.10630836 0.54534622 0.34157964]\n",
            " [0.49837601 0.60742334 0.3288937 ]\n",
            " [0.21665839 0.76879382 0.91433004]]\n"
          ]
        }
      ],
      "source": [
        "# Create a random array\n",
        "random_array = np.random.rand(3, 3)\n",
        "print(\"Random Array:\\n\", random_array)"
      ]
    },
    {
      "cell_type": "code",
      "execution_count": 65,
      "metadata": {
        "colab": {
          "base_uri": "https://localhost:8080/"
        },
        "id": "K5txBzo9EIcf",
        "outputId": "e0939851-9aac-42c2-bf19-3d6da6119c82"
      },
      "outputs": [
        {
          "name": "stdout",
          "output_type": "stream",
          "text": [
            "Random Integer Array:\n",
            " [[9 2 9]\n",
            " [3 6 1]\n",
            " [1 7 9]]\n"
          ]
        }
      ],
      "source": [
        "# Create a random integer array\n",
        "random_int_array = np.random.randint(0, 10, (3, 3))\n",
        "print(\"Random Integer Array:\\n\", random_int_array)"
      ]
    },
    {
      "cell_type": "markdown",
      "metadata": {
        "id": "8zFspQu3EOSz"
      },
      "source": [
        "Stacking and Concatenating Arrays"
      ]
    },
    {
      "cell_type": "code",
      "execution_count": 66,
      "metadata": {
        "id": "xWRVRjj1F6mJ"
      },
      "outputs": [],
      "source": [
        "#create two array\n",
        "array_a=np.array([1,2,3])\n",
        "array_b=np.array((4,5,6))"
      ]
    },
    {
      "cell_type": "code",
      "execution_count": 67,
      "metadata": {
        "colab": {
          "base_uri": "https://localhost:8080/"
        },
        "id": "SbBRrby0Gz0D",
        "outputId": "8d15ce96-6532-4b0c-bc5f-71ef2641b71f"
      },
      "outputs": [
        {
          "name": "stdout",
          "output_type": "stream",
          "text": [
            "Vertical Stack:\n",
            " [[1 2 3]\n",
            " [4 5 6]]\n"
          ]
        }
      ],
      "source": [
        "# Vertical stack\n",
        "v_stack = np.vstack((array_a, array_b))\n",
        "print(\"Vertical Stack:\\n\", v_stack)"
      ]
    },
    {
      "cell_type": "code",
      "execution_count": 68,
      "metadata": {
        "colab": {
          "base_uri": "https://localhost:8080/"
        },
        "id": "ZP226W-bG4lL",
        "outputId": "75e93bba-198a-4bff-a641-d65721914957"
      },
      "outputs": [
        {
          "name": "stdout",
          "output_type": "stream",
          "text": [
            "Horizontal Stack: [1 2 3 4 5 6]\n"
          ]
        }
      ],
      "source": [
        "# Horizontal stack\n",
        "h_stack = np.hstack((array_a,array_b))\n",
        "print(\"Horizontal Stack:\", h_stack)"
      ]
    }
  ],
  "metadata": {
    "colab": {
      "authorship_tag": "ABX9TyNkNlZfTxeyMP5AQvW/wT8y",
      "include_colab_link": true,
      "mount_file_id": "1FGSZMrONS1BzHzPjYAknN7WXWmO7Js6Z",
      "provenance": []
    },
    "kernelspec": {
      "display_name": "Python 3",
      "name": "python3"
    },
    "language_info": {
      "name": "python"
    }
  },
  "nbformat": 4,
  "nbformat_minor": 0
}
